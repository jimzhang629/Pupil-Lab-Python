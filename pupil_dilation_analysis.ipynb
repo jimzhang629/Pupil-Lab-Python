{
 "cells": [
  {
   "cell_type": "code",
   "metadata": {
    "tags": [],
    "cell_id": "00000-c15bf31d-169c-462c-a1c9-b8befddd8926",
    "deepnote_to_be_reexecuted": false,
    "source_hash": "2c2290d9",
    "execution_start": 1627029176000,
    "execution_millis": 1,
    "deepnote_cell_type": "code"
   },
   "source": "# Start writing code here...\nimport pandas as pd\nimport numpy as np",
   "outputs": [],
   "execution_count": 11
  },
  {
   "cell_type": "code",
   "source": "annotations_df = pd.read_csv('/work/Pupil-Lab-Python/annotations.csv')\npupil_data_df = pd.read_csv('pupil_positions.csv')",
   "metadata": {
    "tags": [],
    "cell_id": "00001-efd5b38b-bf31-49ba-80d1-1bcdb49431ec",
    "deepnote_to_be_reexecuted": false,
    "source_hash": "179f85bd",
    "execution_start": 1627029176237,
    "execution_millis": 199,
    "deepnote_cell_type": "code"
   },
   "outputs": [],
   "execution_count": 12
  },
  {
   "cell_type": "code",
   "source": "pupil_data_df",
   "metadata": {
    "tags": [],
    "cell_id": "00002-1a0542cb-1929-4e9c-8202-97c727bbc705",
    "deepnote_to_be_reexecuted": false,
    "source_hash": "32ded6b1",
    "execution_start": 1627029176482,
    "execution_millis": 130,
    "deepnote_cell_type": "code"
   },
   "outputs": [
    {
     "output_type": "execute_result",
     "execution_count": 13,
     "data": {
      "application/vnd.deepnote.dataframe.v2+json": {
       "row_count": 42968,
       "column_count": 34,
       "columns": [
        {
         "name": "pupil_timestamp",
         "dtype": "float64",
         "stats": {
          "unique_count": 21151,
          "nan_count": 0,
          "min": "0.8359500999795273",
          "max": "91.5001510999864",
          "histogram": [
           {
            "bin_start": 0.8359500999795273,
            "bin_end": 9.902370199980215,
            "count": 4178
           },
           {
            "bin_start": 9.902370199980215,
            "bin_end": 18.968790299980903,
            "count": 4350
           },
           {
            "bin_start": 18.968790299980903,
            "bin_end": 28.03521039998159,
            "count": 4358
           },
           {
            "bin_start": 28.03521039998159,
            "bin_end": 37.10163049998228,
            "count": 4332
           },
           {
            "bin_start": 37.10163049998228,
            "bin_end": 46.16805059998296,
            "count": 4258
           },
           {
            "bin_start": 46.16805059998296,
            "bin_end": 55.23447069998365,
            "count": 4188
           },
           {
            "bin_start": 55.23447069998365,
            "bin_end": 64.30089079998434,
            "count": 4272
           },
           {
            "bin_start": 64.30089079998434,
            "bin_end": 73.36731089998503,
            "count": 4316
           },
           {
            "bin_start": 73.36731089998503,
            "bin_end": 82.43373099998571,
            "count": 4386
           },
           {
            "bin_start": 82.43373099998571,
            "bin_end": 91.5001510999864,
            "count": 4330
           }
          ]
         }
        },
        {
         "name": "world_index",
         "dtype": "int64",
         "stats": {
          "unique_count": 997,
          "nan_count": 0,
          "min": "0",
          "max": "996",
          "histogram": [
           {
            "bin_start": 0,
            "bin_end": 99.6,
            "count": 4700
           },
           {
            "bin_start": 99.6,
            "bin_end": 199.2,
            "count": 4802
           },
           {
            "bin_start": 199.2,
            "bin_end": 298.79999999999995,
            "count": 4734
           },
           {
            "bin_start": 298.79999999999995,
            "bin_end": 398.4,
            "count": 4272
           },
           {
            "bin_start": 398.4,
            "bin_end": 498,
            "count": 4374
           },
           {
            "bin_start": 498,
            "bin_end": 597.5999999999999,
            "count": 4316
           },
           {
            "bin_start": 597.5999999999999,
            "bin_end": 697.1999999999999,
            "count": 3848
           },
           {
            "bin_start": 697.1999999999999,
            "bin_end": 796.8,
            "count": 3910
           },
           {
            "bin_start": 796.8,
            "bin_end": 896.4,
            "count": 4118
           },
           {
            "bin_start": 896.4,
            "bin_end": 996,
            "count": 3894
           }
          ]
         }
        },
        {
         "name": "eye_id",
         "dtype": "int64"
        },
        {
         "name": "confidence",
         "dtype": "float64"
        },
        {
         "name": "norm_pos_x",
         "dtype": "float64"
        },
        {
         "name": "norm_pos_y",
         "dtype": "float64"
        },
        {
         "name": "diameter",
         "dtype": "float64"
        },
        {
         "name": "method",
         "dtype": "object"
        },
        {
         "name": "ellipse_center_x",
         "dtype": "float64"
        },
        {
         "name": "ellipse_center_y",
         "dtype": "float64"
        },
        {
         "name": "ellipse_axis_a",
         "dtype": "float64"
        },
        {
         "name": "ellipse_axis_b",
         "dtype": "float64"
        },
        {
         "name": "ellipse_angle",
         "dtype": "float64"
        },
        {
         "name": "diameter_3d",
         "dtype": "float64"
        },
        {
         "name": "model_confidence",
         "dtype": "float64"
        },
        {
         "name": "model_id",
         "dtype": "float64"
        },
        {
         "name": "sphere_center_x",
         "dtype": "float64"
        },
        {
         "name": "sphere_center_y",
         "dtype": "float64"
        },
        {
         "name": "sphere_center_z",
         "dtype": "float64"
        },
        {
         "name": "sphere_radius",
         "dtype": "float64"
        },
        {
         "name": "circle_3d_center_x",
         "dtype": "float64"
        },
        {
         "name": "circle_3d_center_y",
         "dtype": "float64"
        },
        {
         "name": "circle_3d_center_z",
         "dtype": "float64"
        },
        {
         "name": "circle_3d_normal_x",
         "dtype": "float64"
        },
        {
         "name": "circle_3d_normal_y",
         "dtype": "float64"
        },
        {
         "name": "circle_3d_normal_z",
         "dtype": "float64"
        },
        {
         "name": "circle_3d_radius",
         "dtype": "float64"
        },
        {
         "name": "theta",
         "dtype": "float64"
        },
        {
         "name": "phi",
         "dtype": "float64"
        },
        {
         "name": "projected_sphere_center_x",
         "dtype": "float64"
        },
        {
         "name": "projected_sphere_center_y",
         "dtype": "float64"
        },
        {
         "name": "projected_sphere_axis_a",
         "dtype": "float64"
        },
        {
         "name": "projected_sphere_axis_b",
         "dtype": "float64"
        },
        {
         "name": "projected_sphere_angle",
         "dtype": "float64"
        },
        {
         "name": "_deepnote_index_column",
         "dtype": "int64"
        }
       ],
       "rows_top": [
        {
         "pupil_timestamp": 0.8359500999795273,
         "world_index": 0,
         "eye_id": 0,
         "confidence": 0,
         "norm_pos_x": 0,
         "norm_pos_y": 1,
         "diameter": 0,
         "method": "2d c++",
         "ellipse_center_x": 0,
         "ellipse_center_y": 0,
         "ellipse_axis_a": 0,
         "ellipse_axis_b": 0,
         "ellipse_angle": -90,
         "diameter_3d": "nan",
         "model_confidence": "nan",
         "model_id": "nan",
         "sphere_center_x": "nan",
         "sphere_center_y": "nan",
         "sphere_center_z": "nan",
         "sphere_radius": "nan",
         "circle_3d_center_x": "nan",
         "circle_3d_center_y": "nan",
         "circle_3d_center_z": "nan",
         "circle_3d_normal_x": "nan",
         "circle_3d_normal_y": "nan",
         "circle_3d_normal_z": "nan",
         "circle_3d_radius": "nan",
         "theta": "nan",
         "phi": "nan",
         "projected_sphere_center_x": "nan",
         "projected_sphere_center_y": "nan",
         "projected_sphere_axis_a": "nan",
         "projected_sphere_axis_b": "nan",
         "projected_sphere_angle": "nan",
         "_deepnote_index_column": 0
        },
        {
         "pupil_timestamp": 0.8359500999795273,
         "world_index": 0,
         "eye_id": 0,
         "confidence": 0.682582815728892,
         "norm_pos_x": 0.0360161780384879,
         "norm_pos_y": 0.3038065222343361,
         "diameter": 40.78118763434352,
         "method": "pye3d 0.0.7 real-time",
         "ellipse_center_x": 6.915106183389682,
         "ellipse_center_y": 133.66914773100746,
         "ellipse_axis_a": 29.66171420902327,
         "ellipse_axis_b": 40.78118763434352,
         "ellipse_angle": 152.4287601164349,
         "diameter_3d": 3.0435680125461104,
         "model_confidence": 1,
         "model_id": "nan",
         "sphere_center_x": -1.9186011790312452,
         "sphere_center_y": 0.1571815220676809,
         "sphere_center_z": 33.22297518143536,
         "sphere_radius": 10.392304845413264,
         "circle_3d_center_x": -7.183454341474754,
         "circle_3d_center_y": 3.004056108551723,
         "circle_3d_center_z": 24.72729237975662,
         "circle_3d_normal_x": -0.5066107317634353,
         "circle_3d_normal_y": 0.2739406348092776,
         "circle_3d_normal_z": -0.8174974587498156,
         "circle_3d_radius": 1.5217840062730552,
         "theta": 1.2933082988366484,
         "phi": -2.1255820033429758,
         "projected_sphere_center_x": 79.51839979679615,
         "projected_sphere_center_y": 97.26166279891608,
         "projected_sphere_axis_a": 213.05459249948169,
         "projected_sphere_axis_b": 213.05459249948169,
         "projected_sphere_angle": 0,
         "_deepnote_index_column": 1
        },
        {
         "pupil_timestamp": 0.8401620999793522,
         "world_index": 0,
         "eye_id": 1,
         "confidence": 0.99,
         "norm_pos_x": 0.633067806561788,
         "norm_pos_y": 0.8241601785024008,
         "diameter": 41.42920303344727,
         "method": "2d c++",
         "ellipse_center_x": 121.54901885986328,
         "ellipse_center_y": 33.76124572753906,
         "ellipse_axis_a": 38.33864974975586,
         "ellipse_axis_b": 41.42920303344727,
         "ellipse_angle": 140.25999450683597,
         "diameter_3d": "nan",
         "model_confidence": "nan",
         "model_id": "nan",
         "sphere_center_x": "nan",
         "sphere_center_y": "nan",
         "sphere_center_z": "nan",
         "sphere_radius": "nan",
         "circle_3d_center_x": "nan",
         "circle_3d_center_y": "nan",
         "circle_3d_center_z": "nan",
         "circle_3d_normal_x": "nan",
         "circle_3d_normal_y": "nan",
         "circle_3d_normal_z": "nan",
         "circle_3d_radius": "nan",
         "theta": "nan",
         "phi": "nan",
         "projected_sphere_center_x": "nan",
         "projected_sphere_center_y": "nan",
         "projected_sphere_axis_a": "nan",
         "projected_sphere_axis_b": "nan",
         "projected_sphere_angle": "nan",
         "_deepnote_index_column": 2
        },
        {
         "pupil_timestamp": 0.8401620999793522,
         "world_index": 0,
         "eye_id": 1,
         "confidence": 0.99,
         "norm_pos_x": 0.6334674560687191,
         "norm_pos_y": 0.824048641678406,
         "diameter": 41.3303833775215,
         "method": "pye3d 0.0.7 real-time",
         "ellipse_center_x": 121.62575156519408,
         "ellipse_center_y": 33.782660797746054,
         "ellipse_axis_a": 38.90957569286709,
         "ellipse_axis_b": 41.3303833775215,
         "ellipse_angle": 132.55101777332493,
         "diameter_3d": 3.1926491897216764,
         "model_confidence": 1,
         "model_id": "nan",
         "sphere_center_x": 1.3403226749550985,
         "sphere_center_y": -4.480207543366849,
         "sphere_center_z": 35.0867030143403,
         "sphere_radius": 10.392304845413264,
         "circle_3d_center_x": 3.274281707165489,
         "circle_3d_center_y": -6.125777923703551,
         "circle_3d_center_z": 25.009406720934496,
         "circle_3d_normal_x": 0.1860952946413961,
         "circle_3d_normal_y": -0.1583450836763116,
         "circle_3d_normal_z": -0.9696882879502432,
         "circle_3d_radius": 1.5963245948608382,
         "theta": 1.729810691850494,
         "phi": -1.381189174092516,
         "projected_sphere_center_x": 106.65163648419404,
         "projected_sphere_center_y": 59.902733161082935,
         "projected_sphere_axis_a": 201.08503566367628,
         "projected_sphere_axis_b": 201.08503566367628,
         "projected_sphere_angle": 0,
         "_deepnote_index_column": 3
        },
        {
         "pupil_timestamp": 0.8479210999794304,
         "world_index": 0,
         "eye_id": 1,
         "confidence": 0.8927675485610962,
         "norm_pos_x": 0.6219440698623657,
         "norm_pos_y": 0.8266409436861674,
         "diameter": 41.59809112548828,
         "method": "2d c++",
         "ellipse_center_x": 119.41326141357422,
         "ellipse_center_y": 33.28493881225586,
         "ellipse_axis_a": 38.15703201293945,
         "ellipse_axis_b": 41.59809112548828,
         "ellipse_angle": 142.32191467285156,
         "diameter_3d": "nan",
         "model_confidence": "nan",
         "model_id": "nan",
         "sphere_center_x": "nan",
         "sphere_center_y": "nan",
         "sphere_center_z": "nan",
         "sphere_radius": "nan",
         "circle_3d_center_x": "nan",
         "circle_3d_center_y": "nan",
         "circle_3d_center_z": "nan",
         "circle_3d_normal_x": "nan",
         "circle_3d_normal_y": "nan",
         "circle_3d_normal_z": "nan",
         "circle_3d_radius": "nan",
         "theta": "nan",
         "phi": "nan",
         "projected_sphere_center_x": "nan",
         "projected_sphere_center_y": "nan",
         "projected_sphere_axis_a": "nan",
         "projected_sphere_axis_b": "nan",
         "projected_sphere_angle": "nan",
         "_deepnote_index_column": 4
        },
        {
         "pupil_timestamp": 0.8479210999794304,
         "world_index": 0,
         "eye_id": 1,
         "confidence": 0.8927675485610962,
         "norm_pos_x": 0.6225637045147835,
         "norm_pos_y": 0.8265039048531195,
         "diameter": 41.44495965740568,
         "method": "pye3d 0.0.7 real-time",
         "ellipse_center_x": 119.53223126683842,
         "ellipse_center_y": 33.31125026820105,
         "ellipse_axis_a": 39.13313474792179,
         "ellipse_axis_b": 41.44495965740568,
         "ellipse_angle": 131.6394441712994,
         "diameter_3d": 3.204192689002964,
         "model_confidence": 1,
         "model_id": "nan",
         "sphere_center_x": 1.333415721350815,
         "sphere_center_y": -4.482352070776612,
         "sphere_center_z": 35.10945806992544,
         "sphere_radius": 10.392304845413264,
         "circle_3d_center_x": 3.2006769658400263,
         "circle_3d_center_y": -6.090347343630653,
         "circle_3d_center_z": 25.013533810735115,
         "circle_3d_normal_x": 0.1796772970255336,
         "circle_3d_normal_y": -0.1547294172729877,
         "circle_3d_normal_z": -0.9714807647936008,
         "circle_3d_radius": 1.602096344501482,
         "theta": 1.7261498931528851,
         "phi": -1.3879109858445178,
         "projected_sphere_center_x": 106.58902035217976,
         "projected_sphere_center_y": 59.90858260760082,
         "projected_sphere_axis_a": 200.9520385247275,
         "projected_sphere_axis_b": 200.9520385247275,
         "projected_sphere_angle": 0,
         "_deepnote_index_column": 5
        },
        {
         "pupil_timestamp": 0.8479210999794304,
         "world_index": 0,
         "eye_id": 0,
         "confidence": 0,
         "norm_pos_x": 0,
         "norm_pos_y": 1,
         "diameter": 0,
         "method": "2d c++",
         "ellipse_center_x": 0,
         "ellipse_center_y": 0,
         "ellipse_axis_a": 0,
         "ellipse_axis_b": 0,
         "ellipse_angle": -90,
         "diameter_3d": "nan",
         "model_confidence": "nan",
         "model_id": "nan",
         "sphere_center_x": "nan",
         "sphere_center_y": "nan",
         "sphere_center_z": "nan",
         "sphere_radius": "nan",
         "circle_3d_center_x": "nan",
         "circle_3d_center_y": "nan",
         "circle_3d_center_z": "nan",
         "circle_3d_normal_x": "nan",
         "circle_3d_normal_y": "nan",
         "circle_3d_normal_z": "nan",
         "circle_3d_radius": "nan",
         "theta": "nan",
         "phi": "nan",
         "projected_sphere_center_x": "nan",
         "projected_sphere_center_y": "nan",
         "projected_sphere_axis_a": "nan",
         "projected_sphere_axis_b": "nan",
         "projected_sphere_angle": "nan",
         "_deepnote_index_column": 6
        },
        {
         "pupil_timestamp": 0.8479210999794304,
         "world_index": 0,
         "eye_id": 0,
         "confidence": 0.6516953903425738,
         "norm_pos_x": 0.0367820421936566,
         "norm_pos_y": 0.2953432938951424,
         "diameter": 43.40851583032173,
         "method": "pye3d 0.0.7 real-time",
         "ellipse_center_x": 7.062152101182079,
         "ellipse_center_y": 135.29408757213264,
         "ellipse_axis_a": 31.320624862037157,
         "ellipse_axis_b": 43.40851583032173,
         "ellipse_angle": 151.33205615158448,
         "diameter_3d": 3.244777170992183,
         "model_confidence": 1,
         "model_id": "nan",
         "sphere_center_x": -1.9186011790312452,
         "sphere_center_y": 0.1571815220676809,
         "sphere_center_z": 33.22297518143536,
         "sphere_radius": 10.392304845413264,
         "circle_3d_center_x": -7.181879066264394,
         "circle_3d_center_y": 3.137436305682518,
         "circle_3d_center_z": 24.77217715364512,
         "circle_3d_normal_x": -0.5064591508356439,
         "circle_3d_normal_y": 0.2867751502622827,
         "circle_3d_normal_z": -0.8131784193686424,
         "circle_3d_radius": 1.6223885854960916,
         "theta": 1.2799374319423489,
         "phi": -2.1278223610968983,
         "projected_sphere_center_x": 79.51839979679615,
         "projected_sphere_center_y": 97.26166279891608,
         "projected_sphere_axis_a": 213.05459249948169,
         "projected_sphere_axis_b": 213.05459249948169,
         "projected_sphere_angle": 0,
         "_deepnote_index_column": 7
        },
        {
         "pupil_timestamp": 0.8567090999567881,
         "world_index": 0,
         "eye_id": 0,
         "confidence": 0.5293604063175252,
         "norm_pos_x": 0.057664155960083,
         "norm_pos_y": 0.2850885391235351,
         "diameter": 37.52159881591797,
         "method": "2d c++",
         "ellipse_center_x": 11.071517944335938,
         "ellipse_center_y": 137.26300048828125,
         "ellipse_axis_a": 33.37229537963867,
         "ellipse_axis_b": 37.52159881591797,
         "ellipse_angle": 154.50863647460935,
         "diameter_3d": "nan",
         "model_confidence": "nan",
         "model_id": "nan",
         "sphere_center_x": "nan",
         "sphere_center_y": "nan",
         "sphere_center_z": "nan",
         "sphere_radius": "nan",
         "circle_3d_center_x": "nan",
         "circle_3d_center_y": "nan",
         "circle_3d_center_z": "nan",
         "circle_3d_normal_x": "nan",
         "circle_3d_normal_y": "nan",
         "circle_3d_normal_z": "nan",
         "circle_3d_radius": "nan",
         "theta": "nan",
         "phi": "nan",
         "projected_sphere_center_x": "nan",
         "projected_sphere_center_y": "nan",
         "projected_sphere_axis_a": "nan",
         "projected_sphere_axis_b": "nan",
         "projected_sphere_angle": "nan",
         "_deepnote_index_column": 8
        },
        {
         "pupil_timestamp": 0.8567090999567881,
         "world_index": 0,
         "eye_id": 0,
         "confidence": 0.7125001100672642,
         "norm_pos_x": 0.0562738293075435,
         "norm_pos_y": 0.2854241774481619,
         "diameter": 40.83819522199707,
         "method": "pye3d 0.0.7 real-time",
         "ellipse_center_x": 10.80457522704836,
         "ellipse_center_y": 137.1985579299529,
         "ellipse_axis_a": 30.24684366696677,
         "ellipse_axis_b": 40.83819522199707,
         "ellipse_angle": 148.7339636974389,
         "diameter_3d": 3.042366475232025,
         "model_confidence": 1,
         "model_id": "nan",
         "sphere_center_x": -1.9186011790312452,
         "sphere_center_y": 0.1571815220676809,
         "sphere_center_z": 33.22297518143536,
         "sphere_radius": 10.392304845413264,
         "circle_3d_center_x": -6.855025137670678,
         "circle_3d_center_y": 3.2762774394950096,
         "circle_3d_center_z": 24.62629214909906,
         "circle_3d_normal_x": -0.4750076168924323,
         "circle_3d_normal_y": 0.3001351445924884,
         "circle_3d_normal_z": -0.8272162104762082,
         "circle_3d_radius": 1.5211832376160126,
         "theta": 1.26596199959589,
         "phi": -2.092047422503913,
         "projected_sphere_center_x": 79.51839979679615,
         "projected_sphere_center_y": 97.26166279891608,
         "projected_sphere_axis_a": 213.05459249948169,
         "projected_sphere_axis_b": 213.05459249948169,
         "projected_sphere_angle": 0,
         "_deepnote_index_column": 9
        },
        {
         "pupil_timestamp": 0.8567100999644026,
         "world_index": 0,
         "eye_id": 1,
         "confidence": 0.8313965201377869,
         "norm_pos_x": 0.6126574277877808,
         "norm_pos_y": 0.8284352819124857,
         "diameter": 41.7426643371582,
         "method": "2d c++",
         "ellipse_center_x": 117.6302261352539,
         "ellipse_center_y": 32.940425872802734,
         "ellipse_axis_a": 37.87227249145508,
         "ellipse_axis_b": 41.7426643371582,
         "ellipse_angle": 142.0752410888672,
         "diameter_3d": "nan",
         "model_confidence": "nan",
         "model_id": "nan",
         "sphere_center_x": "nan",
         "sphere_center_y": "nan",
         "sphere_center_z": "nan",
         "sphere_radius": "nan",
         "circle_3d_center_x": "nan",
         "circle_3d_center_y": "nan",
         "circle_3d_center_z": "nan",
         "circle_3d_normal_x": "nan",
         "circle_3d_normal_y": "nan",
         "circle_3d_normal_z": "nan",
         "circle_3d_radius": "nan",
         "theta": "nan",
         "phi": "nan",
         "projected_sphere_center_x": "nan",
         "projected_sphere_center_y": "nan",
         "projected_sphere_axis_a": "nan",
         "projected_sphere_axis_b": "nan",
         "projected_sphere_angle": "nan",
         "_deepnote_index_column": 10
        },
        {
         "pupil_timestamp": 0.8567100999644026,
         "world_index": 0,
         "eye_id": 1,
         "confidence": 0.8313965201377869,
         "norm_pos_x": 0.6134484466932798,
         "norm_pos_y": 0.8284010767641553,
         "diameter": 41.57375992702174,
         "method": "pye3d 0.0.7 real-time",
         "ellipse_center_x": 117.78210176510972,
         "ellipse_center_y": 32.94699326128219,
         "ellipse_axis_a": 39.38773431266264,
         "ellipse_axis_b": 41.57375992702174,
         "ellipse_angle": 131.48304768928918,
         "diameter_3d": 3.2140828873754543,
         "model_confidence": 1,
         "model_id": "nan",
         "sphere_center_x": 1.3334097610984157,
         "sphere_center_y": -4.4823654907486965,
         "sphere_center_z": 35.10953023650163,
         "sphere_radius": 10.392304845413264,
         "circle_3d_center_x": 3.148267934841523,
         "circle_3d_center_y": -6.011465611410316,
         "circle_3d_center_z": 24.991815937798066,
         "circle_3d_normal_x": 0.1746348091919292,
         "circle_3d_normal_y": -0.1471377277136457,
         "circle_3d_normal_z": -0.973577512323371,
         "circle_3d_radius": 1.6070414436877272,
         "theta": 1.718470204406909,
         "phi": -1.3933094938502568,
         "projected_sphere_center_x": 106.58895022067674,
         "projected_sphere_center_y": 59.908548100759845,
         "projected_sphere_axis_a": 200.95161478580448,
         "projected_sphere_axis_b": 200.95161478580448,
         "projected_sphere_angle": 0,
         "_deepnote_index_column": 11
        },
        {
         "pupil_timestamp": 0.8644050999428146,
         "world_index": 0,
         "eye_id": 1,
         "confidence": 0.903898537158966,
         "norm_pos_x": 0.6042679138702498,
         "norm_pos_y": 0.8305206650431959,
         "diameter": 41.98514410316152,
         "method": "pye3d 0.0.7 real-time",
         "ellipse_center_x": 116.01943946308796,
         "ellipse_center_y": 32.5400323117064,
         "ellipse_axis_a": 39.83396524711021,
         "ellipse_axis_b": 41.98514410316152,
         "ellipse_angle": 131.24446020531093,
         "diameter_3d": 3.245356676364032,
         "model_confidence": 1,
         "model_id": "nan",
         "sphere_center_x": 1.3334097610984157,
         "sphere_center_y": -4.4823654907486965,
         "sphere_center_z": 35.10953023650163,
         "sphere_radius": 10.392304845413264,
         "circle_3d_center_x": 3.134821413413725,
         "circle_3d_center_y": -5.973902540098999,
         "circle_3d_center_z": 24.98380886519588,
         "circle_3d_normal_x": 0.173340917064262,
         "circle_3d_normal_y": -0.1435232194914495,
         "circle_3d_normal_z": -0.9743479932437537,
         "circle_3d_radius": 1.622678338182016,
         "theta": 1.7148169076067648,
         "phi": -1.3947338397761682,
         "projected_sphere_center_x": 106.58895022067674,
         "projected_sphere_center_y": 59.908548100759845,
         "projected_sphere_axis_a": 200.95161478580448,
         "projected_sphere_axis_b": 200.95161478580448,
         "projected_sphere_angle": 0,
         "_deepnote_index_column": 12
        },
        {
         "pupil_timestamp": 0.8644050999428146,
         "world_index": 0,
         "eye_id": 1,
         "confidence": 0.903898537158966,
         "norm_pos_x": 0.6032260258992513,
         "norm_pos_y": 0.8305142521858215,
         "diameter": 42.19739532470703,
         "method": "2d c++",
         "ellipse_center_x": 115.81939697265624,
         "ellipse_center_y": 32.541263580322266,
         "ellipse_axis_a": 37.64574432373047,
         "ellipse_axis_b": 42.19739532470703,
         "ellipse_angle": 143.19308471679693,
         "diameter_3d": "nan",
         "model_confidence": "nan",
         "model_id": "nan",
         "sphere_center_x": "nan",
         "sphere_center_y": "nan",
         "sphere_center_z": "nan",
         "sphere_radius": "nan",
         "circle_3d_center_x": "nan",
         "circle_3d_center_y": "nan",
         "circle_3d_center_z": "nan",
         "circle_3d_normal_x": "nan",
         "circle_3d_normal_y": "nan",
         "circle_3d_normal_z": "nan",
         "circle_3d_radius": "nan",
         "theta": "nan",
         "phi": "nan",
         "projected_sphere_center_x": "nan",
         "projected_sphere_center_y": "nan",
         "projected_sphere_axis_a": "nan",
         "projected_sphere_axis_b": "nan",
         "projected_sphere_angle": "nan",
         "_deepnote_index_column": 13
        }
       ],
       "rows_bottom": [
        {
         "pupil_timestamp": 91.4648400999722,
         "world_index": 996,
         "eye_id": 1,
         "confidence": 1,
         "norm_pos_x": 0.0915617843468983,
         "norm_pos_y": 0.7594809134801229,
         "diameter": 32.46649932861328,
         "method": "2d c++",
         "ellipse_center_x": 17.579862594604492,
         "ellipse_center_y": 46.179664611816406,
         "ellipse_axis_a": 16.44278907775879,
         "ellipse_axis_b": 32.46649932861328,
         "ellipse_angle": 12.15731143951416,
         "diameter_3d": "nan",
         "model_confidence": "nan",
         "model_id": "nan",
         "sphere_center_x": "nan",
         "sphere_center_y": "nan",
         "sphere_center_z": "nan",
         "sphere_radius": "nan",
         "circle_3d_center_x": "nan",
         "circle_3d_center_y": "nan",
         "circle_3d_center_z": "nan",
         "circle_3d_normal_x": "nan",
         "circle_3d_normal_y": "nan",
         "circle_3d_normal_z": "nan",
         "circle_3d_radius": "nan",
         "theta": "nan",
         "phi": "nan",
         "projected_sphere_center_x": "nan",
         "projected_sphere_center_y": "nan",
         "projected_sphere_axis_a": "nan",
         "projected_sphere_axis_b": "nan",
         "projected_sphere_angle": "nan",
         "_deepnote_index_column": 42953
        },
        {
         "pupil_timestamp": 91.47138709994032,
         "world_index": 996,
         "eye_id": 0,
         "confidence": 0,
         "norm_pos_x": 0,
         "norm_pos_y": 1,
         "diameter": 0,
         "method": "2d c++",
         "ellipse_center_x": 0,
         "ellipse_center_y": 0,
         "ellipse_axis_a": 0,
         "ellipse_axis_b": 0,
         "ellipse_angle": -90,
         "diameter_3d": "nan",
         "model_confidence": "nan",
         "model_id": "nan",
         "sphere_center_x": "nan",
         "sphere_center_y": "nan",
         "sphere_center_z": "nan",
         "sphere_radius": "nan",
         "circle_3d_center_x": "nan",
         "circle_3d_center_y": "nan",
         "circle_3d_center_z": "nan",
         "circle_3d_normal_x": "nan",
         "circle_3d_normal_y": "nan",
         "circle_3d_normal_z": "nan",
         "circle_3d_radius": "nan",
         "theta": "nan",
         "phi": "nan",
         "projected_sphere_center_x": "nan",
         "projected_sphere_center_y": "nan",
         "projected_sphere_axis_a": "nan",
         "projected_sphere_axis_b": "nan",
         "projected_sphere_angle": "nan",
         "_deepnote_index_column": 42954
        },
        {
         "pupil_timestamp": 91.47138709994032,
         "world_index": 996,
         "eye_id": 0,
         "confidence": 0.9172678900549848,
         "norm_pos_x": 0.631437542388197,
         "norm_pos_y": 0.1337291321477532,
         "diameter": 34.067819209080064,
         "method": "pye3d 0.0.7 real-time",
         "ellipse_center_x": 121.23600813853383,
         "ellipse_center_y": 166.32400662763138,
         "ellipse_axis_a": 23.77241513381889,
         "ellipse_axis_b": 34.067819209080064,
         "ellipse_angle": 57.329621128790286,
         "diameter_3d": 2.6005673946294467,
         "model_confidence": 1,
         "model_id": "nan",
         "sphere_center_x": -1.9182239345574092,
         "sphere_center_y": 0.1580757509528715,
         "sphere_center_z": 33.23024329068721,
         "sphere_radius": 10.392304845413264,
         "circle_3d_center_x": 1.9555092362791089,
         "circle_3d_center_y": 5.751700695293561,
         "circle_3d_center_z": 25.374955179916835,
         "circle_3d_normal_x": 0.3727501481585411,
         "circle_3d_normal_y": 0.5382468112268171,
         "circle_3d_normal_z": -0.7558754508858908,
         "circle_3d_radius": 1.3002836973147234,
         "theta": 1.002440829515124,
         "phi": -1.1126541802319767,
         "projected_sphere_center_x": 79.52519371236919,
         "projected_sphere_center_y": 97.26897860456756,
         "projected_sphere_axis_a": 213.00668719534823,
         "projected_sphere_axis_b": 213.00668719534823,
         "projected_sphere_angle": 0,
         "_deepnote_index_column": 42955
        },
        {
         "pupil_timestamp": 91.4779740999802,
         "world_index": 996,
         "eye_id": 1,
         "confidence": 1,
         "norm_pos_x": 0.0918712583351103,
         "norm_pos_y": 0.7601204666051853,
         "diameter": 32.606963199799424,
         "method": "pye3d 0.0.7 real-time",
         "ellipse_center_x": 17.639281600341178,
         "ellipse_center_y": 46.05687041180442,
         "ellipse_axis_a": 16.391744991542943,
         "ellipse_axis_b": 32.606963199799424,
         "ellipse_angle": 11.864166454304325,
         "diameter_3d": 2.69033527939218,
         "model_confidence": 1,
         "model_id": "nan",
         "sphere_center_x": 1.4074896180617036,
         "sphere_center_y": -4.436467287000127,
         "sphere_center_z": 34.78237878005928,
         "sphere_radius": 10.392304845413264,
         "circle_3d_center_x": -7.019053636757693,
         "circle_3d_center_y": -6.005021266057602,
         "circle_3d_center_z": 28.90589963099045,
         "circle_3d_normal_x": -0.8108445027513339,
         "circle_3d_normal_y": -0.1509341770078819,
         "circle_3d_normal_z": -0.5654644697670187,
         "circle_3d_radius": 1.34516763969609,
         "theta": 1.7223095346851962,
         "phi": -2.5326291268233483,
         "projected_sphere_center_x": 107.29222787986562,
         "projected_sphere_center_y": 59.94550399423609,
         "projected_sphere_axis_a": 202.88549076983668,
         "projected_sphere_axis_b": 202.88549076983668,
         "projected_sphere_angle": 0,
         "_deepnote_index_column": 42956
        },
        {
         "pupil_timestamp": 91.4779740999802,
         "world_index": 996,
         "eye_id": 1,
         "confidence": 1,
         "norm_pos_x": 0.0918720463911692,
         "norm_pos_y": 0.7601329485575358,
         "diameter": 32.61146926879883,
         "method": "2d c++",
         "ellipse_center_x": 17.639432907104492,
         "ellipse_center_y": 46.054473876953125,
         "ellipse_axis_a": 16.382604598999023,
         "ellipse_axis_b": 32.61146926879883,
         "ellipse_angle": 11.618729591369627,
         "diameter_3d": "nan",
         "model_confidence": "nan",
         "model_id": "nan",
         "sphere_center_x": "nan",
         "sphere_center_y": "nan",
         "sphere_center_z": "nan",
         "sphere_radius": "nan",
         "circle_3d_center_x": "nan",
         "circle_3d_center_y": "nan",
         "circle_3d_center_z": "nan",
         "circle_3d_normal_x": "nan",
         "circle_3d_normal_y": "nan",
         "circle_3d_normal_z": "nan",
         "circle_3d_radius": "nan",
         "theta": "nan",
         "phi": "nan",
         "projected_sphere_center_x": "nan",
         "projected_sphere_center_y": "nan",
         "projected_sphere_axis_a": "nan",
         "projected_sphere_axis_b": "nan",
         "projected_sphere_angle": "nan",
         "_deepnote_index_column": 42957
        },
        {
         "pupil_timestamp": 91.47837209998396,
         "world_index": 996,
         "eye_id": 0,
         "confidence": 0,
         "norm_pos_x": 0,
         "norm_pos_y": 1,
         "diameter": 0,
         "method": "2d c++",
         "ellipse_center_x": 0,
         "ellipse_center_y": 0,
         "ellipse_axis_a": 0,
         "ellipse_axis_b": 0,
         "ellipse_angle": -90,
         "diameter_3d": "nan",
         "model_confidence": "nan",
         "model_id": "nan",
         "sphere_center_x": "nan",
         "sphere_center_y": "nan",
         "sphere_center_z": "nan",
         "sphere_radius": "nan",
         "circle_3d_center_x": "nan",
         "circle_3d_center_y": "nan",
         "circle_3d_center_z": "nan",
         "circle_3d_normal_x": "nan",
         "circle_3d_normal_y": "nan",
         "circle_3d_normal_z": "nan",
         "circle_3d_radius": "nan",
         "theta": "nan",
         "phi": "nan",
         "projected_sphere_center_x": "nan",
         "projected_sphere_center_y": "nan",
         "projected_sphere_axis_a": "nan",
         "projected_sphere_axis_b": "nan",
         "projected_sphere_angle": "nan",
         "_deepnote_index_column": 42958
        },
        {
         "pupil_timestamp": 91.47837209998396,
         "world_index": 996,
         "eye_id": 0,
         "confidence": 0.967060058772625,
         "norm_pos_x": 0.6256866872786492,
         "norm_pos_y": 0.1328549138255296,
         "diameter": 33.395947334738615,
         "method": "pye3d 0.0.7 real-time",
         "ellipse_center_x": 120.13184395750064,
         "ellipse_center_y": 166.4918565454983,
         "ellipse_axis_a": 23.43965697061416,
         "ellipse_axis_b": 33.395947334738615,
         "ellipse_angle": 58.04566334687552,
         "diameter_3d": 2.546589545471421,
         "model_confidence": 1,
         "model_id": "nan",
         "sphere_center_x": -1.9182239345574092,
         "sphere_center_y": 0.1580757509528715,
         "sphere_center_z": 33.23024329068721,
         "sphere_radius": 10.392304845413264,
         "circle_3d_center_x": 1.8635808151924624,
         "circle_3d_center_y": 5.758998347466443,
         "circle_3d_center_z": 25.33545900594371,
         "circle_3d_normal_x": 0.3639043317151156,
         "circle_3d_normal_y": 0.5389490281345614,
         "circle_3d_normal_z": -0.759675971998448,
         "circle_3d_radius": 1.2732947727357105,
         "theta": 1.0016073998293744,
         "phi": -1.1240684901819096,
         "projected_sphere_center_x": 79.52519371236919,
         "projected_sphere_center_y": 97.26897860456756,
         "projected_sphere_axis_a": 213.00668719534823,
         "projected_sphere_axis_b": 213.00668719534823,
         "projected_sphere_angle": 0,
         "_deepnote_index_column": 42959
        },
        {
         "pupil_timestamp": 91.48735609994036,
         "world_index": 996,
         "eye_id": 1,
         "confidence": 1,
         "norm_pos_x": 0.091597115429373,
         "norm_pos_y": 0.7599036382888973,
         "diameter": 32.51737112362676,
         "method": "pye3d 0.0.7 real-time",
         "ellipse_center_x": 17.58664616243962,
         "ellipse_center_y": 46.09850144853172,
         "ellipse_axis_a": 16.369933449353024,
         "ellipse_axis_b": 32.51737112362676,
         "ellipse_angle": 11.837952363884384,
         "diameter_3d": 2.683982782430473,
         "model_confidence": 1,
         "model_id": "nan",
         "sphere_center_x": 1.407532390599769,
         "sphere_center_y": -4.433033467036173,
         "sphere_center_z": 34.782024882936625,
         "sphere_radius": 10.392304845413264,
         "circle_3d_center_x": -7.013197114590991,
         "circle_3d_center_y": -5.995695744443844,
         "circle_3d_center_z": 28.895650684231885,
         "circle_3d_normal_x": -0.8102850744324849,
         "circle_3d_normal_y": -0.1503672477522987,
         "circle_3d_normal_z": -0.5664166213621749,
         "circle_3d_radius": 1.3419913912152366,
         "theta": 1.7217360603900014,
         "phi": -2.531515467574104,
         "projected_sphere_center_x": 107.29273019216588,
         "projected_sphere_center_y": 59.97293273267231,
         "projected_sphere_axis_a": 202.88825189640085,
         "projected_sphere_axis_b": 202.88825189640085,
         "projected_sphere_angle": 0,
         "_deepnote_index_column": 42960
        },
        {
         "pupil_timestamp": 91.48735609994036,
         "world_index": 996,
         "eye_id": 1,
         "confidence": 1,
         "norm_pos_x": 0.0916022956371307,
         "norm_pos_y": 0.7599034508069357,
         "diameter": 32.51766586303711,
         "method": "2d c++",
         "ellipse_center_x": 17.5876407623291,
         "ellipse_center_y": 46.09853744506836,
         "ellipse_axis_a": 16.492589950561523,
         "ellipse_axis_b": 32.51766586303711,
         "ellipse_angle": 11.803398132324231,
         "diameter_3d": "nan",
         "model_confidence": "nan",
         "model_id": "nan",
         "sphere_center_x": "nan",
         "sphere_center_y": "nan",
         "sphere_center_z": "nan",
         "sphere_radius": "nan",
         "circle_3d_center_x": "nan",
         "circle_3d_center_y": "nan",
         "circle_3d_center_z": "nan",
         "circle_3d_normal_x": "nan",
         "circle_3d_normal_y": "nan",
         "circle_3d_normal_z": "nan",
         "circle_3d_radius": "nan",
         "theta": "nan",
         "phi": "nan",
         "projected_sphere_center_x": "nan",
         "projected_sphere_center_y": "nan",
         "projected_sphere_axis_a": "nan",
         "projected_sphere_axis_b": "nan",
         "projected_sphere_angle": "nan",
         "_deepnote_index_column": 42961
        },
        {
         "pupil_timestamp": 91.49178909993498,
         "world_index": 996,
         "eye_id": 0,
         "confidence": 0.944024486491126,
         "norm_pos_x": 0.6205627738713796,
         "norm_pos_y": 0.1318742385904583,
         "diameter": 33.36968493763825,
         "method": "pye3d 0.0.7 real-time",
         "ellipse_center_x": 119.14805258330487,
         "ellipse_center_y": 166.680146190632,
         "ellipse_axis_a": 23.52490968712104,
         "ellipse_axis_b": 33.36968493763825,
         "ellipse_angle": 58.70332584189136,
         "diameter_3d": 2.5426490927520016,
         "model_confidence": 1,
         "model_id": "nan",
         "sphere_center_x": -1.9182239345574092,
         "sphere_center_y": 0.1580757509528715,
         "sphere_center_z": 33.23024329068721,
         "sphere_radius": 10.392304845413264,
         "circle_3d_center_x": 1.7820788812021733,
         "circle_3d_center_y": 5.769030336908444,
         "circle_3d_center_z": 25.3040242862674,
         "circle_3d_normal_x": 0.3560618044603209,
         "circle_3d_normal_y": 0.5399143567687025,
         "circle_3d_normal_z": -0.7627007793096179,
         "circle_3d_radius": 1.2713245463760008,
         "theta": 1.0004609686075985,
         "phi": -1.134024071179869,
         "projected_sphere_center_x": 79.52519371236919,
         "projected_sphere_center_y": 97.26897860456756,
         "projected_sphere_axis_a": 213.00668719534823,
         "projected_sphere_axis_b": 213.00668719534823,
         "projected_sphere_angle": 0,
         "_deepnote_index_column": 42962
        },
        {
         "pupil_timestamp": 91.49178909993498,
         "world_index": 996,
         "eye_id": 0,
         "confidence": 0,
         "norm_pos_x": 0,
         "norm_pos_y": 1,
         "diameter": 0,
         "method": "2d c++",
         "ellipse_center_x": 0,
         "ellipse_center_y": 0,
         "ellipse_axis_a": 0,
         "ellipse_axis_b": 0,
         "ellipse_angle": -90,
         "diameter_3d": "nan",
         "model_confidence": "nan",
         "model_id": "nan",
         "sphere_center_x": "nan",
         "sphere_center_y": "nan",
         "sphere_center_z": "nan",
         "sphere_radius": "nan",
         "circle_3d_center_x": "nan",
         "circle_3d_center_y": "nan",
         "circle_3d_center_z": "nan",
         "circle_3d_normal_x": "nan",
         "circle_3d_normal_y": "nan",
         "circle_3d_normal_z": "nan",
         "circle_3d_radius": "nan",
         "theta": "nan",
         "phi": "nan",
         "projected_sphere_center_x": "nan",
         "projected_sphere_center_y": "nan",
         "projected_sphere_axis_a": "nan",
         "projected_sphere_axis_b": "nan",
         "projected_sphere_angle": "nan",
         "_deepnote_index_column": 42963
        },
        {
         "pupil_timestamp": 91.49526209995383,
         "world_index": 996,
         "eye_id": 1,
         "confidence": 1,
         "norm_pos_x": 0.091707170009613,
         "norm_pos_y": 0.7603764732678732,
         "diameter": 32.73365783691406,
         "method": "2d c++",
         "ellipse_center_x": 17.607776641845703,
         "ellipse_center_y": 46.00771713256836,
         "ellipse_axis_a": 16.383806228637695,
         "ellipse_axis_b": 32.73365783691406,
         "ellipse_angle": 11.995794296264648,
         "diameter_3d": "nan",
         "model_confidence": "nan",
         "model_id": "nan",
         "sphere_center_x": "nan",
         "sphere_center_y": "nan",
         "sphere_center_z": "nan",
         "sphere_radius": "nan",
         "circle_3d_center_x": "nan",
         "circle_3d_center_y": "nan",
         "circle_3d_center_z": "nan",
         "circle_3d_normal_x": "nan",
         "circle_3d_normal_y": "nan",
         "circle_3d_normal_z": "nan",
         "circle_3d_radius": "nan",
         "theta": "nan",
         "phi": "nan",
         "projected_sphere_center_x": "nan",
         "projected_sphere_center_y": "nan",
         "projected_sphere_axis_a": "nan",
         "projected_sphere_axis_b": "nan",
         "projected_sphere_angle": "nan",
         "_deepnote_index_column": 42964
        },
        {
         "pupil_timestamp": 91.49526209995383,
         "world_index": 996,
         "eye_id": 1,
         "confidence": 1,
         "norm_pos_x": 0.0917116710827907,
         "norm_pos_y": 0.7603790268192541,
         "diameter": 32.7348710563162,
         "method": "pye3d 0.0.7 real-time",
         "ellipse_center_x": 17.608640847895828,
         "ellipse_center_y": 46.007226850703226,
         "ellipse_axis_a": 16.480850826311574,
         "ellipse_axis_b": 32.7348710563162,
         "ellipse_angle": 11.914711808744642,
         "diameter_3d": 2.701771716634375,
         "model_confidence": 1,
         "model_id": "nan",
         "sphere_center_x": 1.40752920481741,
         "sphere_center_y": -4.425780493257836,
         "sphere_center_z": 34.78049852692067,
         "sphere_radius": 10.392304845413264,
         "circle_3d_center_x": -7.009411867354091,
         "circle_3d_center_y": -5.999076121867324,
         "circle_3d_center_z": 28.891539038811523,
         "circle_3d_normal_x": -0.8099205322952389,
         "circle_3d_normal_y": -0.1513904424487582,
         "circle_3d_normal_z": -0.5666653909511027,
         "circle_3d_radius": 1.3508858583171874,
         "theta": 1.7227711040442144,
         "phi": -2.5310979048618387,
         "projected_sphere_center_x": 107.29273019216588,
         "projected_sphere_center_y": 59.97293273267231,
         "projected_sphere_axis_a": 202.88825189640085,
         "projected_sphere_axis_b": 202.88825189640085,
         "projected_sphere_angle": 0,
         "_deepnote_index_column": 42965
        },
        {
         "pupil_timestamp": 91.5001510999864,
         "world_index": 996,
         "eye_id": 0,
         "confidence": 0,
         "norm_pos_x": 0,
         "norm_pos_y": 1,
         "diameter": 0,
         "method": "2d c++",
         "ellipse_center_x": 0,
         "ellipse_center_y": 0,
         "ellipse_axis_a": 0,
         "ellipse_axis_b": 0,
         "ellipse_angle": -90,
         "diameter_3d": "nan",
         "model_confidence": "nan",
         "model_id": "nan",
         "sphere_center_x": "nan",
         "sphere_center_y": "nan",
         "sphere_center_z": "nan",
         "sphere_radius": "nan",
         "circle_3d_center_x": "nan",
         "circle_3d_center_y": "nan",
         "circle_3d_center_z": "nan",
         "circle_3d_normal_x": "nan",
         "circle_3d_normal_y": "nan",
         "circle_3d_normal_z": "nan",
         "circle_3d_radius": "nan",
         "theta": "nan",
         "phi": "nan",
         "projected_sphere_center_x": "nan",
         "projected_sphere_center_y": "nan",
         "projected_sphere_axis_a": "nan",
         "projected_sphere_axis_b": "nan",
         "projected_sphere_angle": "nan",
         "_deepnote_index_column": 42966
        },
        {
         "pupil_timestamp": 91.5001510999864,
         "world_index": 996,
         "eye_id": 0,
         "confidence": 0.947001637724174,
         "norm_pos_x": 0.6280413169403708,
         "norm_pos_y": 0.1322985023752408,
         "diameter": 33.76439081782842,
         "method": "pye3d 0.0.7 real-time",
         "ellipse_center_x": 120.5839328525512,
         "ellipse_center_y": 166.59868754395376,
         "ellipse_axis_a": 23.59753810883645,
         "ellipse_axis_b": 33.76439081782842,
         "ellipse_angle": 57.81638068994034,
         "diameter_3d": 2.576423771309352,
         "model_confidence": 1,
         "model_id": "nan",
         "sphere_center_x": -1.9182239345574092,
         "sphere_center_y": 0.1580757509528715,
         "sphere_center_z": 33.23024329068721,
         "sphere_radius": 10.392304845413264,
         "circle_3d_center_x": 1.9016630041293587,
         "circle_3d_center_y": 5.77217188039613,
         "circle_3d_center_z": 25.363198837716297,
         "circle_3d_normal_x": 0.3675687920541235,
         "circle_3d_normal_y": 0.5402166519317503,
         "circle_3d_normal_z": -0.7570067054415849,
         "circle_3d_radius": 1.2882118856546758,
         "theta": 1.0001017873927156,
         "phi": -1.1187709241628483,
         "projected_sphere_center_x": 79.52519371236919,
         "projected_sphere_center_y": 97.26897860456756,
         "projected_sphere_axis_a": 213.00668719534823,
         "projected_sphere_axis_b": 213.00668719534823,
         "projected_sphere_angle": 0,
         "_deepnote_index_column": 42967
        }
       ]
      },
      "text/plain": "       pupil_timestamp  world_index  eye_id  confidence  norm_pos_x  \\\n0             0.835950            0       0    0.000000    0.000000   \n1             0.835950            0       0    0.682583    0.036016   \n2             0.840162            0       1    0.990000    0.633068   \n3             0.840162            0       1    0.990000    0.633467   \n4             0.847921            0       1    0.892768    0.621944   \n...                ...          ...     ...         ...         ...   \n42963        91.491789          996       0    0.000000    0.000000   \n42964        91.495262          996       1    1.000000    0.091707   \n42965        91.495262          996       1    1.000000    0.091712   \n42966        91.500151          996       0    0.000000    0.000000   \n42967        91.500151          996       0    0.947002    0.628041   \n\n       norm_pos_y   diameter                 method  ellipse_center_x  \\\n0        1.000000   0.000000                 2d c++          0.000000   \n1        0.303807  40.781188  pye3d 0.0.7 real-time          6.915106   \n2        0.824160  41.429203                 2d c++        121.549019   \n3        0.824049  41.330383  pye3d 0.0.7 real-time        121.625752   \n4        0.826641  41.598091                 2d c++        119.413261   \n...           ...        ...                    ...               ...   \n42963    1.000000   0.000000                 2d c++          0.000000   \n42964    0.760376  32.733658                 2d c++         17.607777   \n42965    0.760379  32.734871  pye3d 0.0.7 real-time         17.608641   \n42966    1.000000   0.000000                 2d c++          0.000000   \n42967    0.132299  33.764391  pye3d 0.0.7 real-time        120.583933   \n\n       ellipse_center_y  ...  circle_3d_normal_y  circle_3d_normal_z  \\\n0              0.000000  ...                 NaN                 NaN   \n1            133.669148  ...            0.273941           -0.817497   \n2             33.761246  ...                 NaN                 NaN   \n3             33.782661  ...           -0.158345           -0.969688   \n4             33.284939  ...                 NaN                 NaN   \n...                 ...  ...                 ...                 ...   \n42963          0.000000  ...                 NaN                 NaN   \n42964         46.007717  ...                 NaN                 NaN   \n42965         46.007227  ...           -0.151390           -0.566665   \n42966          0.000000  ...                 NaN                 NaN   \n42967        166.598688  ...            0.540217           -0.757007   \n\n       circle_3d_radius     theta       phi  projected_sphere_center_x  \\\n0                   NaN       NaN       NaN                        NaN   \n1              1.521784  1.293308 -2.125582                  79.518400   \n2                   NaN       NaN       NaN                        NaN   \n3              1.596325  1.729811 -1.381189                 106.651636   \n4                   NaN       NaN       NaN                        NaN   \n...                 ...       ...       ...                        ...   \n42963               NaN       NaN       NaN                        NaN   \n42964               NaN       NaN       NaN                        NaN   \n42965          1.350886  1.722771 -2.531098                 107.292730   \n42966               NaN       NaN       NaN                        NaN   \n42967          1.288212  1.000102 -1.118771                  79.525194   \n\n       projected_sphere_center_y  projected_sphere_axis_a  \\\n0                            NaN                      NaN   \n1                      97.261663               213.054592   \n2                            NaN                      NaN   \n3                      59.902733               201.085036   \n4                            NaN                      NaN   \n...                          ...                      ...   \n42963                        NaN                      NaN   \n42964                        NaN                      NaN   \n42965                  59.972933               202.888252   \n42966                        NaN                      NaN   \n42967                  97.268979               213.006687   \n\n       projected_sphere_axis_b  projected_sphere_angle  \n0                          NaN                     NaN  \n1                   213.054592                     0.0  \n2                          NaN                     NaN  \n3                   201.085036                     0.0  \n4                          NaN                     NaN  \n...                        ...                     ...  \n42963                      NaN                     NaN  \n42964                      NaN                     NaN  \n42965               202.888252                     0.0  \n42966                      NaN                     NaN  \n42967               213.006687                     0.0  \n\n[42968 rows x 34 columns]",
      "text/html": "<div>\n<style scoped>\n    .dataframe tbody tr th:only-of-type {\n        vertical-align: middle;\n    }\n\n    .dataframe tbody tr th {\n        vertical-align: top;\n    }\n\n    .dataframe thead th {\n        text-align: right;\n    }\n</style>\n<table border=\"1\" class=\"dataframe\">\n  <thead>\n    <tr style=\"text-align: right;\">\n      <th></th>\n      <th>pupil_timestamp</th>\n      <th>world_index</th>\n      <th>eye_id</th>\n      <th>confidence</th>\n      <th>norm_pos_x</th>\n      <th>norm_pos_y</th>\n      <th>diameter</th>\n      <th>method</th>\n      <th>ellipse_center_x</th>\n      <th>ellipse_center_y</th>\n      <th>...</th>\n      <th>circle_3d_normal_y</th>\n      <th>circle_3d_normal_z</th>\n      <th>circle_3d_radius</th>\n      <th>theta</th>\n      <th>phi</th>\n      <th>projected_sphere_center_x</th>\n      <th>projected_sphere_center_y</th>\n      <th>projected_sphere_axis_a</th>\n      <th>projected_sphere_axis_b</th>\n      <th>projected_sphere_angle</th>\n    </tr>\n  </thead>\n  <tbody>\n    <tr>\n      <th>0</th>\n      <td>0.835950</td>\n      <td>0</td>\n      <td>0</td>\n      <td>0.000000</td>\n      <td>0.000000</td>\n      <td>1.000000</td>\n      <td>0.000000</td>\n      <td>2d c++</td>\n      <td>0.000000</td>\n      <td>0.000000</td>\n      <td>...</td>\n      <td>NaN</td>\n      <td>NaN</td>\n      <td>NaN</td>\n      <td>NaN</td>\n      <td>NaN</td>\n      <td>NaN</td>\n      <td>NaN</td>\n      <td>NaN</td>\n      <td>NaN</td>\n      <td>NaN</td>\n    </tr>\n    <tr>\n      <th>1</th>\n      <td>0.835950</td>\n      <td>0</td>\n      <td>0</td>\n      <td>0.682583</td>\n      <td>0.036016</td>\n      <td>0.303807</td>\n      <td>40.781188</td>\n      <td>pye3d 0.0.7 real-time</td>\n      <td>6.915106</td>\n      <td>133.669148</td>\n      <td>...</td>\n      <td>0.273941</td>\n      <td>-0.817497</td>\n      <td>1.521784</td>\n      <td>1.293308</td>\n      <td>-2.125582</td>\n      <td>79.518400</td>\n      <td>97.261663</td>\n      <td>213.054592</td>\n      <td>213.054592</td>\n      <td>0.0</td>\n    </tr>\n    <tr>\n      <th>2</th>\n      <td>0.840162</td>\n      <td>0</td>\n      <td>1</td>\n      <td>0.990000</td>\n      <td>0.633068</td>\n      <td>0.824160</td>\n      <td>41.429203</td>\n      <td>2d c++</td>\n      <td>121.549019</td>\n      <td>33.761246</td>\n      <td>...</td>\n      <td>NaN</td>\n      <td>NaN</td>\n      <td>NaN</td>\n      <td>NaN</td>\n      <td>NaN</td>\n      <td>NaN</td>\n      <td>NaN</td>\n      <td>NaN</td>\n      <td>NaN</td>\n      <td>NaN</td>\n    </tr>\n    <tr>\n      <th>3</th>\n      <td>0.840162</td>\n      <td>0</td>\n      <td>1</td>\n      <td>0.990000</td>\n      <td>0.633467</td>\n      <td>0.824049</td>\n      <td>41.330383</td>\n      <td>pye3d 0.0.7 real-time</td>\n      <td>121.625752</td>\n      <td>33.782661</td>\n      <td>...</td>\n      <td>-0.158345</td>\n      <td>-0.969688</td>\n      <td>1.596325</td>\n      <td>1.729811</td>\n      <td>-1.381189</td>\n      <td>106.651636</td>\n      <td>59.902733</td>\n      <td>201.085036</td>\n      <td>201.085036</td>\n      <td>0.0</td>\n    </tr>\n    <tr>\n      <th>4</th>\n      <td>0.847921</td>\n      <td>0</td>\n      <td>1</td>\n      <td>0.892768</td>\n      <td>0.621944</td>\n      <td>0.826641</td>\n      <td>41.598091</td>\n      <td>2d c++</td>\n      <td>119.413261</td>\n      <td>33.284939</td>\n      <td>...</td>\n      <td>NaN</td>\n      <td>NaN</td>\n      <td>NaN</td>\n      <td>NaN</td>\n      <td>NaN</td>\n      <td>NaN</td>\n      <td>NaN</td>\n      <td>NaN</td>\n      <td>NaN</td>\n      <td>NaN</td>\n    </tr>\n    <tr>\n      <th>...</th>\n      <td>...</td>\n      <td>...</td>\n      <td>...</td>\n      <td>...</td>\n      <td>...</td>\n      <td>...</td>\n      <td>...</td>\n      <td>...</td>\n      <td>...</td>\n      <td>...</td>\n      <td>...</td>\n      <td>...</td>\n      <td>...</td>\n      <td>...</td>\n      <td>...</td>\n      <td>...</td>\n      <td>...</td>\n      <td>...</td>\n      <td>...</td>\n      <td>...</td>\n      <td>...</td>\n    </tr>\n    <tr>\n      <th>42963</th>\n      <td>91.491789</td>\n      <td>996</td>\n      <td>0</td>\n      <td>0.000000</td>\n      <td>0.000000</td>\n      <td>1.000000</td>\n      <td>0.000000</td>\n      <td>2d c++</td>\n      <td>0.000000</td>\n      <td>0.000000</td>\n      <td>...</td>\n      <td>NaN</td>\n      <td>NaN</td>\n      <td>NaN</td>\n      <td>NaN</td>\n      <td>NaN</td>\n      <td>NaN</td>\n      <td>NaN</td>\n      <td>NaN</td>\n      <td>NaN</td>\n      <td>NaN</td>\n    </tr>\n    <tr>\n      <th>42964</th>\n      <td>91.495262</td>\n      <td>996</td>\n      <td>1</td>\n      <td>1.000000</td>\n      <td>0.091707</td>\n      <td>0.760376</td>\n      <td>32.733658</td>\n      <td>2d c++</td>\n      <td>17.607777</td>\n      <td>46.007717</td>\n      <td>...</td>\n      <td>NaN</td>\n      <td>NaN</td>\n      <td>NaN</td>\n      <td>NaN</td>\n      <td>NaN</td>\n      <td>NaN</td>\n      <td>NaN</td>\n      <td>NaN</td>\n      <td>NaN</td>\n      <td>NaN</td>\n    </tr>\n    <tr>\n      <th>42965</th>\n      <td>91.495262</td>\n      <td>996</td>\n      <td>1</td>\n      <td>1.000000</td>\n      <td>0.091712</td>\n      <td>0.760379</td>\n      <td>32.734871</td>\n      <td>pye3d 0.0.7 real-time</td>\n      <td>17.608641</td>\n      <td>46.007227</td>\n      <td>...</td>\n      <td>-0.151390</td>\n      <td>-0.566665</td>\n      <td>1.350886</td>\n      <td>1.722771</td>\n      <td>-2.531098</td>\n      <td>107.292730</td>\n      <td>59.972933</td>\n      <td>202.888252</td>\n      <td>202.888252</td>\n      <td>0.0</td>\n    </tr>\n    <tr>\n      <th>42966</th>\n      <td>91.500151</td>\n      <td>996</td>\n      <td>0</td>\n      <td>0.000000</td>\n      <td>0.000000</td>\n      <td>1.000000</td>\n      <td>0.000000</td>\n      <td>2d c++</td>\n      <td>0.000000</td>\n      <td>0.000000</td>\n      <td>...</td>\n      <td>NaN</td>\n      <td>NaN</td>\n      <td>NaN</td>\n      <td>NaN</td>\n      <td>NaN</td>\n      <td>NaN</td>\n      <td>NaN</td>\n      <td>NaN</td>\n      <td>NaN</td>\n      <td>NaN</td>\n    </tr>\n    <tr>\n      <th>42967</th>\n      <td>91.500151</td>\n      <td>996</td>\n      <td>0</td>\n      <td>0.947002</td>\n      <td>0.628041</td>\n      <td>0.132299</td>\n      <td>33.764391</td>\n      <td>pye3d 0.0.7 real-time</td>\n      <td>120.583933</td>\n      <td>166.598688</td>\n      <td>...</td>\n      <td>0.540217</td>\n      <td>-0.757007</td>\n      <td>1.288212</td>\n      <td>1.000102</td>\n      <td>-1.118771</td>\n      <td>79.525194</td>\n      <td>97.268979</td>\n      <td>213.006687</td>\n      <td>213.006687</td>\n      <td>0.0</td>\n    </tr>\n  </tbody>\n</table>\n<p>42968 rows × 34 columns</p>\n</div>"
     },
     "metadata": {}
    }
   ],
   "execution_count": 13
  },
  {
   "cell_type": "code",
   "source": "annotations_df",
   "metadata": {
    "tags": [],
    "cell_id": "00003-db9d5b02-6064-4e2d-b51b-4b4f88d974fc",
    "deepnote_to_be_reexecuted": false,
    "source_hash": "9ea4657",
    "execution_start": 1627029176819,
    "execution_millis": 8,
    "deepnote_cell_type": "code"
   },
   "outputs": [
    {
     "output_type": "execute_result",
     "execution_count": 14,
     "data": {
      "application/vnd.deepnote.dataframe.v2+json": {
       "row_count": 31,
       "column_count": 4,
       "columns": [
        {
         "name": "index",
         "dtype": "int64",
         "stats": {
          "unique_count": 31,
          "nan_count": 0,
          "min": "116",
          "max": "982",
          "histogram": [
           {
            "bin_start": 116,
            "bin_end": 202.6,
            "count": 2
           },
           {
            "bin_start": 202.6,
            "bin_end": 289.2,
            "count": 5
           },
           {
            "bin_start": 289.2,
            "bin_end": 375.79999999999995,
            "count": 1
           },
           {
            "bin_start": 375.79999999999995,
            "bin_end": 462.4,
            "count": 4
           },
           {
            "bin_start": 462.4,
            "bin_end": 549,
            "count": 3
           },
           {
            "bin_start": 549,
            "bin_end": 635.5999999999999,
            "count": 2
           },
           {
            "bin_start": 635.5999999999999,
            "bin_end": 722.1999999999999,
            "count": 3
           },
           {
            "bin_start": 722.1999999999999,
            "bin_end": 808.8,
            "count": 4
           },
           {
            "bin_start": 808.8,
            "bin_end": 895.4,
            "count": 3
           },
           {
            "bin_start": 895.4,
            "bin_end": 982,
            "count": 4
           }
          ]
         }
        },
        {
         "name": "timestamp",
         "dtype": "float64",
         "stats": {
          "unique_count": 31,
          "nan_count": 0,
          "min": "13.18830599996727",
          "max": "90.4964556999621",
          "histogram": [
           {
            "bin_start": 13.18830599996727,
            "bin_end": 20.91912096996675,
            "count": 2
           },
           {
            "bin_start": 20.91912096996675,
            "bin_end": 28.649935939966234,
            "count": 4
           },
           {
            "bin_start": 28.649935939966234,
            "bin_end": 36.38075090996572,
            "count": 2
           },
           {
            "bin_start": 36.38075090996572,
            "bin_end": 44.1115658799652,
            "count": 3
           },
           {
            "bin_start": 44.1115658799652,
            "bin_end": 51.842380849964684,
            "count": 3
           },
           {
            "bin_start": 51.842380849964684,
            "bin_end": 59.57319581996417,
            "count": 2
           },
           {
            "bin_start": 59.57319581996417,
            "bin_end": 67.30401078996366,
            "count": 3
           },
           {
            "bin_start": 67.30401078996366,
            "bin_end": 75.03482575996313,
            "count": 4
           },
           {
            "bin_start": 75.03482575996313,
            "bin_end": 82.76564072996261,
            "count": 4
           },
           {
            "bin_start": 82.76564072996261,
            "bin_end": 90.4964556999621,
            "count": 4
           }
          ]
         }
        },
        {
         "name": "label",
         "dtype": "object",
         "stats": {
          "unique_count": 3,
          "nan_count": 0,
          "categories": [
           {
            "name": "pressed space test trial",
            "count": 24
           },
           {
            "name": "pressed space practice trial",
            "count": 6
           },
           {
            "name": "start experiment",
            "count": 1
           }
          ]
         }
        },
        {
         "name": "duration",
         "dtype": "float64",
         "stats": {
          "unique_count": 2,
          "nan_count": 0,
          "min": "0.0",
          "max": "0.2",
          "histogram": [
           {
            "bin_start": 0,
            "bin_end": 0.02,
            "count": 1
           },
           {
            "bin_start": 0.02,
            "bin_end": 0.04,
            "count": 0
           },
           {
            "bin_start": 0.04,
            "bin_end": 0.06,
            "count": 0
           },
           {
            "bin_start": 0.06,
            "bin_end": 0.08,
            "count": 0
           },
           {
            "bin_start": 0.08,
            "bin_end": 0.1,
            "count": 0
           },
           {
            "bin_start": 0.1,
            "bin_end": 0.12,
            "count": 0
           },
           {
            "bin_start": 0.12,
            "bin_end": 0.14,
            "count": 0
           },
           {
            "bin_start": 0.14,
            "bin_end": 0.16,
            "count": 0
           },
           {
            "bin_start": 0.16,
            "bin_end": 0.18,
            "count": 0
           },
           {
            "bin_start": 0.18,
            "bin_end": 0.2,
            "count": 30
           }
          ]
         }
        },
        {
         "name": "_deepnote_index_column",
         "dtype": "int64"
        }
       ],
       "rows_top": [
        {
         "index": 116,
         "timestamp": 13.18830599996727,
         "label": "start experiment",
         "duration": 0,
         "_deepnote_index_column": 0
        },
        {
         "index": 187,
         "timestamp": 19.939823299995624,
         "label": "pressed space practice trial",
         "duration": 0.2,
         "_deepnote_index_column": 1
        },
        {
         "index": 210,
         "timestamp": 22.117980499984697,
         "label": "pressed space practice trial",
         "duration": 0.2,
         "_deepnote_index_column": 2
        },
        {
         "index": 229,
         "timestamp": 23.935146200004965,
         "label": "pressed space practice trial",
         "duration": 0.2,
         "_deepnote_index_column": 3
        },
        {
         "index": 247,
         "timestamp": 25.671221699973103,
         "label": "pressed space practice trial",
         "duration": 0.2,
         "_deepnote_index_column": 4
        },
        {
         "index": 268,
         "timestamp": 27.873429799976293,
         "label": "pressed space practice trial",
         "duration": 0.2,
         "_deepnote_index_column": 5
        },
        {
         "index": 283,
         "timestamp": 29.478550900006667,
         "label": "pressed space practice trial",
         "duration": 0.2,
         "_deepnote_index_column": 6
        },
        {
         "index": 356,
         "timestamp": 36.19710289995419,
         "label": "pressed space test trial",
         "duration": 0.2,
         "_deepnote_index_column": 7
        },
        {
         "index": 379,
         "timestamp": 38.29221329995198,
         "label": "pressed space test trial",
         "duration": 0.2,
         "_deepnote_index_column": 8
        },
        {
         "index": 403,
         "timestamp": 40.2713725999929,
         "label": "pressed space test trial",
         "duration": 0.2,
         "_deepnote_index_column": 9
        },
        {
         "index": 427,
         "timestamp": 42.74261969997315,
         "label": "pressed space test trial",
         "duration": 0.2,
         "_deepnote_index_column": 10
        },
        {
         "index": 453,
         "timestamp": 45.23276589997113,
         "label": "pressed space test trial",
         "duration": 0.2,
         "_deepnote_index_column": 11
        },
        {
         "index": 498,
         "timestamp": 49.29914309998276,
         "label": "pressed space test trial",
         "duration": 0.2,
         "_deepnote_index_column": 12
        },
        {
         "index": 516,
         "timestamp": 51.22828619997017,
         "label": "pressed space test trial",
         "duration": 0.2,
         "_deepnote_index_column": 13
        },
        {
         "index": 542,
         "timestamp": 53.63250169996172,
         "label": "pressed space test trial",
         "duration": 0.2,
         "_deepnote_index_column": 14
        },
        {
         "index": 593,
         "timestamp": 58.18985809996957,
         "label": "pressed space test trial",
         "duration": 0.2,
         "_deepnote_index_column": 15
        },
        {
         "index": 630,
         "timestamp": 61.26410649996251,
         "label": "pressed space test trial",
         "duration": 0.2,
         "_deepnote_index_column": 16
        },
        {
         "index": 669,
         "timestamp": 64.59935619996395,
         "label": "pressed space test trial",
         "duration": 0.2,
         "_deepnote_index_column": 17
        },
        {
         "index": 691,
         "timestamp": 66.24450059997616,
         "label": "pressed space test trial",
         "duration": 0.2,
         "_deepnote_index_column": 18
        },
        {
         "index": 716,
         "timestamp": 68.00964379997458,
         "label": "pressed space test trial",
         "duration": 0.2,
         "_deepnote_index_column": 19
        },
        {
         "index": 734,
         "timestamp": 69.46974729996873,
         "label": "pressed space test trial",
         "duration": 0.2,
         "_deepnote_index_column": 20
        },
        {
         "index": 759,
         "timestamp": 71.5849132000003,
         "label": "pressed space test trial",
         "duration": 0.2,
         "_deepnote_index_column": 21
        },
        {
         "index": 784,
         "timestamp": 73.59308939997572,
         "label": "pressed space test trial",
         "duration": 0.2,
         "_deepnote_index_column": 22
        },
        {
         "index": 805,
         "timestamp": 75.67824489995837,
         "label": "pressed space test trial",
         "duration": 0.2,
         "_deepnote_index_column": 23
        },
        {
         "index": 822,
         "timestamp": 77.183373799955,
         "label": "pressed space test trial",
         "duration": 0.2,
         "_deepnote_index_column": 24
        },
        {
         "index": 850,
         "timestamp": 79.34452449996024,
         "label": "pressed space test trial",
         "duration": 0.2,
         "_deepnote_index_column": 25
        },
        {
         "index": 869,
         "timestamp": 81.12369179999223,
         "label": "pressed space test trial",
         "duration": 0.2,
         "_deepnote_index_column": 26
        },
        {
         "index": 901,
         "timestamp": 83.6909394999966,
         "label": "pressed space test trial",
         "duration": 0.2,
         "_deepnote_index_column": 27
        },
        {
         "index": 922,
         "timestamp": 85.46606849995442,
         "label": "pressed space test trial",
         "duration": 0.2,
         "_deepnote_index_column": 28
        },
        {
         "index": 957,
         "timestamp": 88.57827860000543,
         "label": "pressed space test trial",
         "duration": 0.2,
         "_deepnote_index_column": 29
        },
        {
         "index": 982,
         "timestamp": 90.4964556999621,
         "label": "pressed space test trial",
         "duration": 0.2,
         "_deepnote_index_column": 30
        }
       ],
       "rows_bottom": null
      },
      "text/plain": "    index  timestamp                         label  duration\n0     116  13.188306              start experiment       0.0\n1     187  19.939823  pressed space practice trial       0.2\n2     210  22.117980  pressed space practice trial       0.2\n3     229  23.935146  pressed space practice trial       0.2\n4     247  25.671222  pressed space practice trial       0.2\n5     268  27.873430  pressed space practice trial       0.2\n6     283  29.478551  pressed space practice trial       0.2\n7     356  36.197103      pressed space test trial       0.2\n8     379  38.292213      pressed space test trial       0.2\n9     403  40.271373      pressed space test trial       0.2\n10    427  42.742620      pressed space test trial       0.2\n11    453  45.232766      pressed space test trial       0.2\n12    498  49.299143      pressed space test trial       0.2\n13    516  51.228286      pressed space test trial       0.2\n14    542  53.632502      pressed space test trial       0.2\n15    593  58.189858      pressed space test trial       0.2\n16    630  61.264106      pressed space test trial       0.2\n17    669  64.599356      pressed space test trial       0.2\n18    691  66.244501      pressed space test trial       0.2\n19    716  68.009644      pressed space test trial       0.2\n20    734  69.469747      pressed space test trial       0.2\n21    759  71.584913      pressed space test trial       0.2\n22    784  73.593089      pressed space test trial       0.2\n23    805  75.678245      pressed space test trial       0.2\n24    822  77.183374      pressed space test trial       0.2\n25    850  79.344524      pressed space test trial       0.2\n26    869  81.123692      pressed space test trial       0.2\n27    901  83.690939      pressed space test trial       0.2\n28    922  85.466068      pressed space test trial       0.2\n29    957  88.578279      pressed space test trial       0.2\n30    982  90.496456      pressed space test trial       0.2",
      "text/html": "<div>\n<style scoped>\n    .dataframe tbody tr th:only-of-type {\n        vertical-align: middle;\n    }\n\n    .dataframe tbody tr th {\n        vertical-align: top;\n    }\n\n    .dataframe thead th {\n        text-align: right;\n    }\n</style>\n<table border=\"1\" class=\"dataframe\">\n  <thead>\n    <tr style=\"text-align: right;\">\n      <th></th>\n      <th>index</th>\n      <th>timestamp</th>\n      <th>label</th>\n      <th>duration</th>\n    </tr>\n  </thead>\n  <tbody>\n    <tr>\n      <th>0</th>\n      <td>116</td>\n      <td>13.188306</td>\n      <td>start experiment</td>\n      <td>0.0</td>\n    </tr>\n    <tr>\n      <th>1</th>\n      <td>187</td>\n      <td>19.939823</td>\n      <td>pressed space practice trial</td>\n      <td>0.2</td>\n    </tr>\n    <tr>\n      <th>2</th>\n      <td>210</td>\n      <td>22.117980</td>\n      <td>pressed space practice trial</td>\n      <td>0.2</td>\n    </tr>\n    <tr>\n      <th>3</th>\n      <td>229</td>\n      <td>23.935146</td>\n      <td>pressed space practice trial</td>\n      <td>0.2</td>\n    </tr>\n    <tr>\n      <th>4</th>\n      <td>247</td>\n      <td>25.671222</td>\n      <td>pressed space practice trial</td>\n      <td>0.2</td>\n    </tr>\n    <tr>\n      <th>5</th>\n      <td>268</td>\n      <td>27.873430</td>\n      <td>pressed space practice trial</td>\n      <td>0.2</td>\n    </tr>\n    <tr>\n      <th>6</th>\n      <td>283</td>\n      <td>29.478551</td>\n      <td>pressed space practice trial</td>\n      <td>0.2</td>\n    </tr>\n    <tr>\n      <th>7</th>\n      <td>356</td>\n      <td>36.197103</td>\n      <td>pressed space test trial</td>\n      <td>0.2</td>\n    </tr>\n    <tr>\n      <th>8</th>\n      <td>379</td>\n      <td>38.292213</td>\n      <td>pressed space test trial</td>\n      <td>0.2</td>\n    </tr>\n    <tr>\n      <th>9</th>\n      <td>403</td>\n      <td>40.271373</td>\n      <td>pressed space test trial</td>\n      <td>0.2</td>\n    </tr>\n    <tr>\n      <th>10</th>\n      <td>427</td>\n      <td>42.742620</td>\n      <td>pressed space test trial</td>\n      <td>0.2</td>\n    </tr>\n    <tr>\n      <th>11</th>\n      <td>453</td>\n      <td>45.232766</td>\n      <td>pressed space test trial</td>\n      <td>0.2</td>\n    </tr>\n    <tr>\n      <th>12</th>\n      <td>498</td>\n      <td>49.299143</td>\n      <td>pressed space test trial</td>\n      <td>0.2</td>\n    </tr>\n    <tr>\n      <th>13</th>\n      <td>516</td>\n      <td>51.228286</td>\n      <td>pressed space test trial</td>\n      <td>0.2</td>\n    </tr>\n    <tr>\n      <th>14</th>\n      <td>542</td>\n      <td>53.632502</td>\n      <td>pressed space test trial</td>\n      <td>0.2</td>\n    </tr>\n    <tr>\n      <th>15</th>\n      <td>593</td>\n      <td>58.189858</td>\n      <td>pressed space test trial</td>\n      <td>0.2</td>\n    </tr>\n    <tr>\n      <th>16</th>\n      <td>630</td>\n      <td>61.264106</td>\n      <td>pressed space test trial</td>\n      <td>0.2</td>\n    </tr>\n    <tr>\n      <th>17</th>\n      <td>669</td>\n      <td>64.599356</td>\n      <td>pressed space test trial</td>\n      <td>0.2</td>\n    </tr>\n    <tr>\n      <th>18</th>\n      <td>691</td>\n      <td>66.244501</td>\n      <td>pressed space test trial</td>\n      <td>0.2</td>\n    </tr>\n    <tr>\n      <th>19</th>\n      <td>716</td>\n      <td>68.009644</td>\n      <td>pressed space test trial</td>\n      <td>0.2</td>\n    </tr>\n    <tr>\n      <th>20</th>\n      <td>734</td>\n      <td>69.469747</td>\n      <td>pressed space test trial</td>\n      <td>0.2</td>\n    </tr>\n    <tr>\n      <th>21</th>\n      <td>759</td>\n      <td>71.584913</td>\n      <td>pressed space test trial</td>\n      <td>0.2</td>\n    </tr>\n    <tr>\n      <th>22</th>\n      <td>784</td>\n      <td>73.593089</td>\n      <td>pressed space test trial</td>\n      <td>0.2</td>\n    </tr>\n    <tr>\n      <th>23</th>\n      <td>805</td>\n      <td>75.678245</td>\n      <td>pressed space test trial</td>\n      <td>0.2</td>\n    </tr>\n    <tr>\n      <th>24</th>\n      <td>822</td>\n      <td>77.183374</td>\n      <td>pressed space test trial</td>\n      <td>0.2</td>\n    </tr>\n    <tr>\n      <th>25</th>\n      <td>850</td>\n      <td>79.344524</td>\n      <td>pressed space test trial</td>\n      <td>0.2</td>\n    </tr>\n    <tr>\n      <th>26</th>\n      <td>869</td>\n      <td>81.123692</td>\n      <td>pressed space test trial</td>\n      <td>0.2</td>\n    </tr>\n    <tr>\n      <th>27</th>\n      <td>901</td>\n      <td>83.690939</td>\n      <td>pressed space test trial</td>\n      <td>0.2</td>\n    </tr>\n    <tr>\n      <th>28</th>\n      <td>922</td>\n      <td>85.466068</td>\n      <td>pressed space test trial</td>\n      <td>0.2</td>\n    </tr>\n    <tr>\n      <th>29</th>\n      <td>957</td>\n      <td>88.578279</td>\n      <td>pressed space test trial</td>\n      <td>0.2</td>\n    </tr>\n    <tr>\n      <th>30</th>\n      <td>982</td>\n      <td>90.496456</td>\n      <td>pressed space test trial</td>\n      <td>0.2</td>\n    </tr>\n  </tbody>\n</table>\n</div>"
     },
     "metadata": {}
    }
   ],
   "execution_count": 14
  },
  {
   "cell_type": "code",
   "source": "pupil_dilation_df = pd.DataFrame(columns=['AnnotationTime', 'Diameter', 'pupilTime'])",
   "metadata": {
    "tags": [],
    "cell_id": "00004-22872140-e4d8-4b18-82df-27aa5154df74",
    "deepnote_to_be_reexecuted": false,
    "source_hash": "1bd74390",
    "execution_start": 1627031428143,
    "execution_millis": 5,
    "deepnote_cell_type": "code"
   },
   "outputs": [],
   "execution_count": 21
  },
  {
   "cell_type": "code",
   "source": "for timestamp in annotations_df['timestamp']:\n    for pupil_timestamp in pupil_data_df['pupil_timestamp']:\n        if abs(timestamp - pupil_timestamp) < 0.5:\n            pupil_dilation_df.loc[len(pupil_dilation_df)] = [timestamp, pupil_data_df.loc[pupil_data_df['pupil_timestamp'] == pupil_timestamp, 'diameter'].iloc[0], pupil_timestamp] #add row to dilation dataframe\n",
   "metadata": {
    "tags": [],
    "cell_id": "00004-82368c2f-bdb5-4885-afd5-82ed70cab1a9",
    "deepnote_to_be_reexecuted": false,
    "source_hash": "31e6305b",
    "execution_start": 1627031428526,
    "execution_millis": 54767,
    "deepnote_cell_type": "code"
   },
   "outputs": [],
   "execution_count": 22
  },
  {
   "cell_type": "code",
   "source": "pupil_dilation_df.to_csv('/work/Pupil-Lab-Python/pupil_dilation.csv')",
   "metadata": {
    "tags": [],
    "cell_id": "00005-75505402-63cf-47f1-b8bf-37a574ba4d30",
    "deepnote_to_be_reexecuted": false,
    "source_hash": "56dca25b",
    "execution_start": 1627031606981,
    "execution_millis": 89,
    "deepnote_cell_type": "code"
   },
   "outputs": [],
   "execution_count": 24
  },
  {
   "cell_type": "code",
   "source": "print(len(dilation_list))",
   "metadata": {
    "tags": [],
    "cell_id": "00006-f08bfad8-a599-4208-b368-2e33180bc69b",
    "deepnote_to_be_reexecuted": false,
    "source_hash": "c317d4f2",
    "execution_start": 1627029565075,
    "execution_millis": 9,
    "deepnote_cell_type": "code"
   },
   "outputs": [
    {
     "name": "stdout",
     "text": "14930\n",
     "output_type": "stream"
    }
   ],
   "execution_count": 19
  },
  {
   "cell_type": "code",
   "source": "",
   "metadata": {
    "tags": [],
    "cell_id": "00007-d5ff8357-a660-4a8b-8bdd-79ec22c80095",
    "deepnote_cell_type": "code"
   },
   "outputs": [],
   "execution_count": null
  },
  {
   "cell_type": "markdown",
   "source": "<a style='text-decoration:none;line-height:16px;display:flex;color:#5B5B62;padding:10px;justify-content:end;' href='https://deepnote.com?utm_source=created-in-deepnote-cell&projectId=4a151680-96fa-46e7-b2b2-e8adbe7b70f3' target=\"_blank\">\n<img alt='Created in deepnote.com' style='display:inline;max-height:16px;margin:0px;margin-right:7.5px;' src='data:image/svg+xml;base64,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' > </img>\nCreated in <span style='font-weight:600;margin-left:4px;'>Deepnote</span></a>",
   "metadata": {
    "tags": [],
    "created_in_deepnote_cell": true,
    "deepnote_cell_type": "markdown"
   }
  }
 ],
 "nbformat": 4,
 "nbformat_minor": 2,
 "metadata": {
  "orig_nbformat": 2,
  "deepnote": {
   "is_reactive": false
  },
  "deepnote_notebook_id": "788fc373-e67e-45e9-86d0-ddba4a818afb",
  "deepnote_execution_queue": []
 }
}